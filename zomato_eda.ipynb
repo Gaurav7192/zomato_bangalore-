{
 "cells": [
  {
   "cell_type": "code",
   "execution_count": 1,
   "id": "24b74b0e-1394-4e75-b8a2-e3f43d8bbef8",
   "metadata": {},
   "outputs": [],
   "source": [
    "import pandas as pd \n",
    "import numpy as np\n",
    "import matplotlib.pyplot as plt\n",
    "import seaborn as sns"
   ]
  },
  {
   "cell_type": "code",
   "execution_count": 2,
   "id": "d8d363e4-ed99-4650-9231-c8b4358b15e6",
   "metadata": {},
   "outputs": [],
   "source": [
    "#df=pd.read_csv(\"C:/Users/HACKER BOY 2.0/Downloads/Zomato Banglore Resturant Data1.csv\")\n",
    "#df1=pd.read_csv(\"C:/Users/HACKER BOY 2.0/Downloads/Zomato Banglore Resturant Data.1.csv\")"
   ]
  },
  {
   "cell_type": "code",
   "execution_count": 3,
   "id": "d295e730-1005-4ff7-bdb4-97699331e7ff",
   "metadata": {},
   "outputs": [
    {
     "name": "stdout",
     "output_type": "stream",
     "text": [
      "<class 'pandas.core.frame.DataFrame'>\n",
      "RangeIndex: 51717 entries, 0 to 51716\n",
      "Data columns (total 17 columns):\n",
      " #   Column                       Non-Null Count  Dtype \n",
      "---  ------                       --------------  ----- \n",
      " 0   url                          51717 non-null  object\n",
      " 1   address                      51717 non-null  object\n",
      " 2   name                         51717 non-null  object\n",
      " 3   online_order                 51717 non-null  object\n",
      " 4   book_table                   51717 non-null  object\n",
      " 5   rate                         43942 non-null  object\n",
      " 6   votes                        51717 non-null  int64 \n",
      " 7   phone                        50509 non-null  object\n",
      " 8   location                     51696 non-null  object\n",
      " 9   rest_type                    51490 non-null  object\n",
      " 10  dish_liked                   23639 non-null  object\n",
      " 11  cuisines                     51672 non-null  object\n",
      " 12  approx_cost(for two people)  51371 non-null  object\n",
      " 13  reviews_list                 51717 non-null  object\n",
      " 14  menu_item                    51717 non-null  object\n",
      " 15  listed_in(type)              51717 non-null  object\n",
      " 16  listed_in(city)              51717 non-null  object\n",
      "dtypes: int64(1), object(16)\n",
      "memory usage: 6.7+ MB\n",
      "None\n"
     ]
    }
   ],
   "source": [
    "df=pd.read_csv(\"F:\\download\\zomato.csv\")\n",
    "print(df.info())"
   ]
  },
  {
   "cell_type": "code",
   "execution_count": null,
   "id": "ec0f1828-ca23-4e74-b5c5-0c6f2c36bb70",
   "metadata": {},
   "outputs": [],
   "source": []
  },
  {
   "cell_type": "code",
   "execution_count": 4,
   "id": "a9cc821e-4e00-4741-93f2-c8d2ee4fb452",
   "metadata": {},
   "outputs": [
    {
     "data": {
      "text/html": [
       "<div>\n",
       "<style scoped>\n",
       "    .dataframe tbody tr th:only-of-type {\n",
       "        vertical-align: middle;\n",
       "    }\n",
       "\n",
       "    .dataframe tbody tr th {\n",
       "        vertical-align: top;\n",
       "    }\n",
       "\n",
       "    .dataframe thead th {\n",
       "        text-align: right;\n",
       "    }\n",
       "</style>\n",
       "<table border=\"1\" class=\"dataframe\">\n",
       "  <thead>\n",
       "    <tr style=\"text-align: right;\">\n",
       "      <th></th>\n",
       "      <th>url</th>\n",
       "      <th>address</th>\n",
       "      <th>name</th>\n",
       "      <th>online_order</th>\n",
       "      <th>book_table</th>\n",
       "      <th>rate</th>\n",
       "      <th>votes</th>\n",
       "      <th>phone</th>\n",
       "      <th>location</th>\n",
       "      <th>rest_type</th>\n",
       "      <th>dish_liked</th>\n",
       "      <th>cuisines</th>\n",
       "      <th>approx_cost(for two people)</th>\n",
       "      <th>reviews_list</th>\n",
       "      <th>menu_item</th>\n",
       "      <th>listed_in(type)</th>\n",
       "      <th>listed_in(city)</th>\n",
       "    </tr>\n",
       "  </thead>\n",
       "  <tbody>\n",
       "    <tr>\n",
       "      <th>0</th>\n",
       "      <td>https://www.zomato.com/bangalore/jalsa-banasha...</td>\n",
       "      <td>942, 21st Main Road, 2nd Stage, Banashankari, ...</td>\n",
       "      <td>Jalsa</td>\n",
       "      <td>Yes</td>\n",
       "      <td>Yes</td>\n",
       "      <td>4.1/5</td>\n",
       "      <td>775</td>\n",
       "      <td>080 42297555\\r\\n+91 9743772233</td>\n",
       "      <td>Banashankari</td>\n",
       "      <td>Casual Dining</td>\n",
       "      <td>Pasta, Lunch Buffet, Masala Papad, Paneer Laja...</td>\n",
       "      <td>North Indian, Mughlai, Chinese</td>\n",
       "      <td>800</td>\n",
       "      <td>[('Rated 4.0', 'RATED\\n  A beautiful place to ...</td>\n",
       "      <td>[]</td>\n",
       "      <td>Buffet</td>\n",
       "      <td>Banashankari</td>\n",
       "    </tr>\n",
       "    <tr>\n",
       "      <th>1</th>\n",
       "      <td>https://www.zomato.com/bangalore/spice-elephan...</td>\n",
       "      <td>2nd Floor, 80 Feet Road, Near Big Bazaar, 6th ...</td>\n",
       "      <td>Spice Elephant</td>\n",
       "      <td>Yes</td>\n",
       "      <td>No</td>\n",
       "      <td>4.1/5</td>\n",
       "      <td>787</td>\n",
       "      <td>080 41714161</td>\n",
       "      <td>Banashankari</td>\n",
       "      <td>Casual Dining</td>\n",
       "      <td>Momos, Lunch Buffet, Chocolate Nirvana, Thai G...</td>\n",
       "      <td>Chinese, North Indian, Thai</td>\n",
       "      <td>800</td>\n",
       "      <td>[('Rated 4.0', 'RATED\\n  Had been here for din...</td>\n",
       "      <td>[]</td>\n",
       "      <td>Buffet</td>\n",
       "      <td>Banashankari</td>\n",
       "    </tr>\n",
       "    <tr>\n",
       "      <th>2</th>\n",
       "      <td>https://www.zomato.com/SanchurroBangalore?cont...</td>\n",
       "      <td>1112, Next to KIMS Medical College, 17th Cross...</td>\n",
       "      <td>San Churro Cafe</td>\n",
       "      <td>Yes</td>\n",
       "      <td>No</td>\n",
       "      <td>3.8/5</td>\n",
       "      <td>918</td>\n",
       "      <td>+91 9663487993</td>\n",
       "      <td>Banashankari</td>\n",
       "      <td>Cafe, Casual Dining</td>\n",
       "      <td>Churros, Cannelloni, Minestrone Soup, Hot Choc...</td>\n",
       "      <td>Cafe, Mexican, Italian</td>\n",
       "      <td>800</td>\n",
       "      <td>[('Rated 3.0', \"RATED\\n  Ambience is not that ...</td>\n",
       "      <td>[]</td>\n",
       "      <td>Buffet</td>\n",
       "      <td>Banashankari</td>\n",
       "    </tr>\n",
       "    <tr>\n",
       "      <th>3</th>\n",
       "      <td>https://www.zomato.com/bangalore/addhuri-udupi...</td>\n",
       "      <td>1st Floor, Annakuteera, 3rd Stage, Banashankar...</td>\n",
       "      <td>Addhuri Udupi Bhojana</td>\n",
       "      <td>No</td>\n",
       "      <td>No</td>\n",
       "      <td>3.7/5</td>\n",
       "      <td>88</td>\n",
       "      <td>+91 9620009302</td>\n",
       "      <td>Banashankari</td>\n",
       "      <td>Quick Bites</td>\n",
       "      <td>Masala Dosa</td>\n",
       "      <td>South Indian, North Indian</td>\n",
       "      <td>300</td>\n",
       "      <td>[('Rated 4.0', \"RATED\\n  Great food and proper...</td>\n",
       "      <td>[]</td>\n",
       "      <td>Buffet</td>\n",
       "      <td>Banashankari</td>\n",
       "    </tr>\n",
       "    <tr>\n",
       "      <th>4</th>\n",
       "      <td>https://www.zomato.com/bangalore/grand-village...</td>\n",
       "      <td>10, 3rd Floor, Lakshmi Associates, Gandhi Baza...</td>\n",
       "      <td>Grand Village</td>\n",
       "      <td>No</td>\n",
       "      <td>No</td>\n",
       "      <td>3.8/5</td>\n",
       "      <td>166</td>\n",
       "      <td>+91 8026612447\\r\\n+91 9901210005</td>\n",
       "      <td>Basavanagudi</td>\n",
       "      <td>Casual Dining</td>\n",
       "      <td>Panipuri, Gol Gappe</td>\n",
       "      <td>North Indian, Rajasthani</td>\n",
       "      <td>600</td>\n",
       "      <td>[('Rated 4.0', 'RATED\\n  Very good restaurant ...</td>\n",
       "      <td>[]</td>\n",
       "      <td>Buffet</td>\n",
       "      <td>Banashankari</td>\n",
       "    </tr>\n",
       "  </tbody>\n",
       "</table>\n",
       "</div>"
      ],
      "text/plain": [
       "                                                 url  \\\n",
       "0  https://www.zomato.com/bangalore/jalsa-banasha...   \n",
       "1  https://www.zomato.com/bangalore/spice-elephan...   \n",
       "2  https://www.zomato.com/SanchurroBangalore?cont...   \n",
       "3  https://www.zomato.com/bangalore/addhuri-udupi...   \n",
       "4  https://www.zomato.com/bangalore/grand-village...   \n",
       "\n",
       "                                             address                   name  \\\n",
       "0  942, 21st Main Road, 2nd Stage, Banashankari, ...                  Jalsa   \n",
       "1  2nd Floor, 80 Feet Road, Near Big Bazaar, 6th ...         Spice Elephant   \n",
       "2  1112, Next to KIMS Medical College, 17th Cross...        San Churro Cafe   \n",
       "3  1st Floor, Annakuteera, 3rd Stage, Banashankar...  Addhuri Udupi Bhojana   \n",
       "4  10, 3rd Floor, Lakshmi Associates, Gandhi Baza...          Grand Village   \n",
       "\n",
       "  online_order book_table   rate  votes                             phone  \\\n",
       "0          Yes        Yes  4.1/5    775    080 42297555\\r\\n+91 9743772233   \n",
       "1          Yes         No  4.1/5    787                      080 41714161   \n",
       "2          Yes         No  3.8/5    918                    +91 9663487993   \n",
       "3           No         No  3.7/5     88                    +91 9620009302   \n",
       "4           No         No  3.8/5    166  +91 8026612447\\r\\n+91 9901210005   \n",
       "\n",
       "       location            rest_type  \\\n",
       "0  Banashankari        Casual Dining   \n",
       "1  Banashankari        Casual Dining   \n",
       "2  Banashankari  Cafe, Casual Dining   \n",
       "3  Banashankari          Quick Bites   \n",
       "4  Basavanagudi        Casual Dining   \n",
       "\n",
       "                                          dish_liked  \\\n",
       "0  Pasta, Lunch Buffet, Masala Papad, Paneer Laja...   \n",
       "1  Momos, Lunch Buffet, Chocolate Nirvana, Thai G...   \n",
       "2  Churros, Cannelloni, Minestrone Soup, Hot Choc...   \n",
       "3                                        Masala Dosa   \n",
       "4                                Panipuri, Gol Gappe   \n",
       "\n",
       "                         cuisines approx_cost(for two people)  \\\n",
       "0  North Indian, Mughlai, Chinese                         800   \n",
       "1     Chinese, North Indian, Thai                         800   \n",
       "2          Cafe, Mexican, Italian                         800   \n",
       "3      South Indian, North Indian                         300   \n",
       "4        North Indian, Rajasthani                         600   \n",
       "\n",
       "                                        reviews_list menu_item  \\\n",
       "0  [('Rated 4.0', 'RATED\\n  A beautiful place to ...        []   \n",
       "1  [('Rated 4.0', 'RATED\\n  Had been here for din...        []   \n",
       "2  [('Rated 3.0', \"RATED\\n  Ambience is not that ...        []   \n",
       "3  [('Rated 4.0', \"RATED\\n  Great food and proper...        []   \n",
       "4  [('Rated 4.0', 'RATED\\n  Very good restaurant ...        []   \n",
       "\n",
       "  listed_in(type) listed_in(city)  \n",
       "0          Buffet    Banashankari  \n",
       "1          Buffet    Banashankari  \n",
       "2          Buffet    Banashankari  \n",
       "3          Buffet    Banashankari  \n",
       "4          Buffet    Banashankari  "
      ]
     },
     "execution_count": 4,
     "metadata": {},
     "output_type": "execute_result"
    }
   ],
   "source": [
    "df.head()"
   ]
  },
  {
   "cell_type": "code",
   "execution_count": 5,
   "id": "c455f6f6-3f45-43e3-957d-e0e9a4a9500e",
   "metadata": {},
   "outputs": [],
   "source": [
    " \n",
    "df.drop(df.columns[[1,4,7,9,10,13,14,15,16]], axis = 1, inplace = True)\n",
    "\n",
    "#df.dropna(inplace=True)"
   ]
  },
  {
   "cell_type": "code",
   "execution_count": 6,
   "id": "c38fea33-797c-407f-bac8-d509ef41d79e",
   "metadata": {},
   "outputs": [
    {
     "data": {
      "text/html": [
       "<div>\n",
       "<style scoped>\n",
       "    .dataframe tbody tr th:only-of-type {\n",
       "        vertical-align: middle;\n",
       "    }\n",
       "\n",
       "    .dataframe tbody tr th {\n",
       "        vertical-align: top;\n",
       "    }\n",
       "\n",
       "    .dataframe thead th {\n",
       "        text-align: right;\n",
       "    }\n",
       "</style>\n",
       "<table border=\"1\" class=\"dataframe\">\n",
       "  <thead>\n",
       "    <tr style=\"text-align: right;\">\n",
       "      <th></th>\n",
       "      <th>url</th>\n",
       "      <th>name</th>\n",
       "      <th>online_order</th>\n",
       "      <th>rate</th>\n",
       "      <th>votes</th>\n",
       "      <th>location</th>\n",
       "      <th>cuisines</th>\n",
       "      <th>approx_cost(for two people)</th>\n",
       "    </tr>\n",
       "  </thead>\n",
       "  <tbody>\n",
       "    <tr>\n",
       "      <th>0</th>\n",
       "      <td>https://www.zomato.com/bangalore/jalsa-banasha...</td>\n",
       "      <td>Jalsa</td>\n",
       "      <td>Yes</td>\n",
       "      <td>4.1/5</td>\n",
       "      <td>775</td>\n",
       "      <td>Banashankari</td>\n",
       "      <td>North Indian, Mughlai, Chinese</td>\n",
       "      <td>800</td>\n",
       "    </tr>\n",
       "    <tr>\n",
       "      <th>1</th>\n",
       "      <td>https://www.zomato.com/bangalore/spice-elephan...</td>\n",
       "      <td>Spice Elephant</td>\n",
       "      <td>Yes</td>\n",
       "      <td>4.1/5</td>\n",
       "      <td>787</td>\n",
       "      <td>Banashankari</td>\n",
       "      <td>Chinese, North Indian, Thai</td>\n",
       "      <td>800</td>\n",
       "    </tr>\n",
       "    <tr>\n",
       "      <th>2</th>\n",
       "      <td>https://www.zomato.com/SanchurroBangalore?cont...</td>\n",
       "      <td>San Churro Cafe</td>\n",
       "      <td>Yes</td>\n",
       "      <td>3.8/5</td>\n",
       "      <td>918</td>\n",
       "      <td>Banashankari</td>\n",
       "      <td>Cafe, Mexican, Italian</td>\n",
       "      <td>800</td>\n",
       "    </tr>\n",
       "    <tr>\n",
       "      <th>3</th>\n",
       "      <td>https://www.zomato.com/bangalore/addhuri-udupi...</td>\n",
       "      <td>Addhuri Udupi Bhojana</td>\n",
       "      <td>No</td>\n",
       "      <td>3.7/5</td>\n",
       "      <td>88</td>\n",
       "      <td>Banashankari</td>\n",
       "      <td>South Indian, North Indian</td>\n",
       "      <td>300</td>\n",
       "    </tr>\n",
       "    <tr>\n",
       "      <th>4</th>\n",
       "      <td>https://www.zomato.com/bangalore/grand-village...</td>\n",
       "      <td>Grand Village</td>\n",
       "      <td>No</td>\n",
       "      <td>3.8/5</td>\n",
       "      <td>166</td>\n",
       "      <td>Basavanagudi</td>\n",
       "      <td>North Indian, Rajasthani</td>\n",
       "      <td>600</td>\n",
       "    </tr>\n",
       "  </tbody>\n",
       "</table>\n",
       "</div>"
      ],
      "text/plain": [
       "                                                 url                   name  \\\n",
       "0  https://www.zomato.com/bangalore/jalsa-banasha...                  Jalsa   \n",
       "1  https://www.zomato.com/bangalore/spice-elephan...         Spice Elephant   \n",
       "2  https://www.zomato.com/SanchurroBangalore?cont...        San Churro Cafe   \n",
       "3  https://www.zomato.com/bangalore/addhuri-udupi...  Addhuri Udupi Bhojana   \n",
       "4  https://www.zomato.com/bangalore/grand-village...          Grand Village   \n",
       "\n",
       "  online_order   rate  votes      location                        cuisines  \\\n",
       "0          Yes  4.1/5    775  Banashankari  North Indian, Mughlai, Chinese   \n",
       "1          Yes  4.1/5    787  Banashankari     Chinese, North Indian, Thai   \n",
       "2          Yes  3.8/5    918  Banashankari          Cafe, Mexican, Italian   \n",
       "3           No  3.7/5     88  Banashankari      South Indian, North Indian   \n",
       "4           No  3.8/5    166  Basavanagudi        North Indian, Rajasthani   \n",
       "\n",
       "  approx_cost(for two people)  \n",
       "0                         800  \n",
       "1                         800  \n",
       "2                         800  \n",
       "3                         300  \n",
       "4                         600  "
      ]
     },
     "execution_count": 6,
     "metadata": {},
     "output_type": "execute_result"
    }
   ],
   "source": [
    "df.head()"
   ]
  },
  {
   "cell_type": "code",
   "execution_count": 7,
   "id": "5d3f3072-4143-4426-b716-2c1b2e19aa2c",
   "metadata": {},
   "outputs": [
    {
     "data": {
      "text/plain": [
       "2724"
      ]
     },
     "execution_count": 7,
     "metadata": {},
     "output_type": "execute_result"
    }
   ],
   "source": [
    "len(df['cuisines'].unique())"
   ]
  },
  {
   "cell_type": "code",
   "execution_count": null,
   "id": "06ae5c27-768c-4651-8aed-7ad5726c1909",
   "metadata": {},
   "outputs": [],
   "source": []
  },
  {
   "cell_type": "code",
   "execution_count": 8,
   "id": "b7dddb97-415f-49fb-af73-5b82de47c351",
   "metadata": {},
   "outputs": [],
   "source": [
    "def rating(value):\n",
    "    value=str(value)\n",
    "    \n",
    "    if '/' in value:\n",
    "        value=str(value).split(\"/\")\n",
    "        value=value[0]\n",
    "        return float(value)\n",
    "\n"
   ]
  },
  {
   "cell_type": "code",
   "execution_count": 9,
   "id": "9b568b21-a151-4fd1-9aeb-310a851f3ba5",
   "metadata": {},
   "outputs": [
    {
     "data": {
      "text/plain": [
       "0    4.1\n",
       "1    4.1\n",
       "2    3.8\n",
       "3    3.7\n",
       "4    3.8\n",
       "Name: rate, dtype: float64"
      ]
     },
     "execution_count": 9,
     "metadata": {},
     "output_type": "execute_result"
    }
   ],
   "source": [
    "df['rate']=df['rate'].apply(rating)\n",
    "df['rate'].head()"
   ]
  },
  {
   "cell_type": "code",
   "execution_count": 10,
   "id": "69ece481-a48b-4db8-9a98-786fc0a92780",
   "metadata": {},
   "outputs": [],
   "source": [
    "def price(value):\n",
    "    value=str(value)\n",
    "    value=value.replace(\",\",\"\")\n",
    "    return float(value)"
   ]
  },
  {
   "cell_type": "code",
   "execution_count": 11,
   "id": "c3c812e6-54a4-4260-b7a0-14131578425b",
   "metadata": {},
   "outputs": [],
   "source": [
    "df['approx_cost(for two people)']=df['approx_cost(for two people)'].apply(price)"
   ]
  },
  {
   "cell_type": "code",
   "execution_count": 12,
   "id": "91388c2e-feae-4e4e-9cbe-e038befabaeb",
   "metadata": {},
   "outputs": [],
   "source": [
    "df['approx_cost(for two people)']=df['approx_cost(for two people)']//2\n"
   ]
  },
  {
   "cell_type": "code",
   "execution_count": 13,
   "id": "5c30f8c9-4e37-4a3f-af33-492d630ef2b6",
   "metadata": {},
   "outputs": [
    {
     "name": "stdout",
     "output_type": "stream",
     "text": [
      "<class 'pandas.core.frame.DataFrame'>\n",
      "RangeIndex: 51717 entries, 0 to 51716\n",
      "Data columns (total 8 columns):\n",
      " #   Column                       Non-Null Count  Dtype  \n",
      "---  ------                       --------------  -----  \n",
      " 0   url                          51717 non-null  object \n",
      " 1   name                         51717 non-null  object \n",
      " 2   online_order                 51717 non-null  object \n",
      " 3   rate                         41665 non-null  float64\n",
      " 4   votes                        51717 non-null  int64  \n",
      " 5   location                     51696 non-null  object \n",
      " 6   cuisines                     51672 non-null  object \n",
      " 7   approx_cost(for two people)  51371 non-null  float64\n",
      "dtypes: float64(2), int64(1), object(5)\n",
      "memory usage: 3.2+ MB\n"
     ]
    }
   ],
   "source": [
    "df.info()"
   ]
  },
  {
   "cell_type": "code",
   "execution_count": 14,
   "id": "09352ed4-5e15-483a-9626-c9cac1032302",
   "metadata": {},
   "outputs": [
    {
     "data": {
      "text/plain": [
       "url                                0\n",
       "name                               0\n",
       "online_order                       0\n",
       "rate                           10052\n",
       "votes                              0\n",
       "location                          21\n",
       "cuisines                          45\n",
       "approx_cost(for two people)      346\n",
       "dtype: int64"
      ]
     },
     "execution_count": 14,
     "metadata": {},
     "output_type": "execute_result"
    }
   ],
   "source": [
    "df.isnull().sum()"
   ]
  },
  {
   "cell_type": "code",
   "execution_count": 15,
   "id": "9a01bf7a-1f72-4753-84f2-71690c5d50ca",
   "metadata": {},
   "outputs": [
    {
     "data": {
      "text/plain": [
       "0         400.0\n",
       "1         400.0\n",
       "2         400.0\n",
       "3         150.0\n",
       "4         300.0\n",
       "          ...  \n",
       "51712     750.0\n",
       "51713     300.0\n",
       "51714    1000.0\n",
       "51715    1250.0\n",
       "51716     750.0\n",
       "Name: approx_cost(for two people), Length: 51371, dtype: float64"
      ]
     },
     "execution_count": 15,
     "metadata": {},
     "output_type": "execute_result"
    }
   ],
   "source": [
    "df['approx_cost(for two people)'].dropna()"
   ]
  },
  {
   "cell_type": "code",
   "execution_count": 16,
   "id": "f5632891-340a-4731-9363-7daa74ad875c",
   "metadata": {},
   "outputs": [
    {
     "data": {
      "text/plain": [
       "0         400.0\n",
       "1         400.0\n",
       "2         400.0\n",
       "3         150.0\n",
       "4         300.0\n",
       "          ...  \n",
       "51712     750.0\n",
       "51713     300.0\n",
       "51714    1000.0\n",
       "51715    1250.0\n",
       "51716     750.0\n",
       "Name: approx_cost(for two people), Length: 51371, dtype: float64"
      ]
     },
     "execution_count": 16,
     "metadata": {},
     "output_type": "execute_result"
    }
   ],
   "source": [
    "df['approx_cost(for two people)'].dropna()"
   ]
  },
  {
   "cell_type": "code",
   "execution_count": 17,
   "id": "0232134c-473c-4aef-b433-21c8804df1ef",
   "metadata": {},
   "outputs": [
    {
     "data": {
      "text/plain": [
       "0        4.100000\n",
       "1        4.100000\n",
       "2        3.800000\n",
       "3        3.700000\n",
       "4        3.800000\n",
       "           ...   \n",
       "51712    3.600000\n",
       "51713    3.700449\n",
       "51714    3.700449\n",
       "51715    4.300000\n",
       "51716    3.400000\n",
       "Name: rate, Length: 51717, dtype: float64"
      ]
     },
     "execution_count": 17,
     "metadata": {},
     "output_type": "execute_result"
    }
   ],
   "source": [
    "df['rate'].fillna(df['rate'].mean())"
   ]
  },
  {
   "cell_type": "code",
   "execution_count": 18,
   "id": "0934e56a-8399-4c73-92e5-0cb23b4823cc",
   "metadata": {},
   "outputs": [],
   "source": [
    "df.dropna(inplace=True)"
   ]
  },
  {
   "cell_type": "code",
   "execution_count": 19,
   "id": "248f579d-adb3-4b30-860a-f039331c5e21",
   "metadata": {},
   "outputs": [],
   "source": [
    "df.columns=df.columns.str.replace('approx_cost(for two people)','cost of one person')"
   ]
  },
  {
   "cell_type": "code",
   "execution_count": 20,
   "id": "8054d53c-d3e9-45ec-b855-0ffd59637b28",
   "metadata": {},
   "outputs": [
    {
     "data": {
      "text/plain": [
       "Index(['url', 'name', 'online_order', 'rate', 'votes', 'location', 'cuisines',\n",
       "       'cost of one person'],\n",
       "      dtype='object')"
      ]
     },
     "execution_count": 20,
     "metadata": {},
     "output_type": "execute_result"
    }
   ],
   "source": [
    "df.columns"
   ]
  },
  {
   "cell_type": "code",
   "execution_count": 21,
   "id": "096ed12f-661a-4e15-8d55-911b0bf02be6",
   "metadata": {},
   "outputs": [],
   "source": [
    "df.columns=df.columns.str.replace(\"online_order\",\"delivery\")"
   ]
  },
  {
   "cell_type": "code",
   "execution_count": 22,
   "id": "0ef15a3d-2bcd-4af0-8707-bf80f33a2e83",
   "metadata": {},
   "outputs": [
    {
     "data": {
      "text/plain": [
       "Index(['url', 'name', 'delivery', 'rate', 'votes', 'location', 'cuisines',\n",
       "       'cost of one person'],\n",
       "      dtype='object')"
      ]
     },
     "execution_count": 22,
     "metadata": {},
     "output_type": "execute_result"
    }
   ],
   "source": [
    "df.columns"
   ]
  },
  {
   "cell_type": "code",
   "execution_count": 23,
   "id": "a4f165a7-38a5-49e1-b6db-ac864c44c890",
   "metadata": {},
   "outputs": [],
   "source": [
    "def delivery(value):\n",
    "    value=str(value)\n",
    "    if value==\"Yes\":\n",
    "        return 1\n",
    "    else :\n",
    "        return 0"
   ]
  },
  {
   "cell_type": "code",
   "execution_count": 24,
   "id": "4a1cad26-bea4-4604-8d59-b1ecaa686395",
   "metadata": {},
   "outputs": [],
   "source": [
    "def delivery1(value):\n",
    "    if value==\"Yes\":\n",
    "        return 1\n",
    "    else :\n",
    "        return None"
   ]
  },
  {
   "cell_type": "markdown",
   "id": "b3c6e7d3-ffcc-44c5-af4b-c0a7fe08c3de",
   "metadata": {},
   "source": []
  },
  {
   "cell_type": "code",
   "execution_count": 25,
   "id": "ac8fd822-c766-49a8-9106-a88d5b30dbe6",
   "metadata": {},
   "outputs": [],
   "source": [
    "df['delivery']=df['delivery'].apply(delivery)"
   ]
  },
  {
   "cell_type": "code",
   "execution_count": 26,
   "id": "b08bc385-0412-49d5-8bb0-0c0503c9e6fa",
   "metadata": {},
   "outputs": [
    {
     "data": {
      "text/plain": [
       "0"
      ]
     },
     "execution_count": 26,
     "metadata": {},
     "output_type": "execute_result"
    }
   ],
   "source": [
    "df['delivery'].isnull().sum()"
   ]
  },
  {
   "cell_type": "code",
   "execution_count": 27,
   "id": "038366d0-7850-49a2-8589-b3d804c7a465",
   "metadata": {},
   "outputs": [],
   "source": [
    "df=df[df['delivery']!=0]"
   ]
  },
  {
   "cell_type": "code",
   "execution_count": 28,
   "id": "c53c9130-1c9b-456a-9725-bd58b950987c",
   "metadata": {},
   "outputs": [
    {
     "data": {
      "text/plain": [
       "0        1\n",
       "1        1\n",
       "2        1\n",
       "5        1\n",
       "7        1\n",
       "        ..\n",
       "51697    1\n",
       "51699    1\n",
       "51701    1\n",
       "51703    1\n",
       "51705    1\n",
       "Name: delivery, Length: 27198, dtype: int64"
      ]
     },
     "execution_count": 28,
     "metadata": {},
     "output_type": "execute_result"
    }
   ],
   "source": [
    "df['delivery']"
   ]
  },
  {
   "cell_type": "code",
   "execution_count": 29,
   "id": "0b8a983a-1cfb-4168-9ca5-d211999a1a5c",
   "metadata": {},
   "outputs": [],
   "source": [
    "#df.to_excel(\"zomato_clean_by_gaurav.xlsx\",index=False)"
   ]
  },
  {
   "cell_type": "code",
   "execution_count": 30,
   "id": "53de8f52-d56b-4e5a-be7d-21c09388c735",
   "metadata": {},
   "outputs": [],
   "source": [
    "area_distribution = df['location'].value_counts()\n",
    "cheapest_per_cuisine = df.groupby('cuisines')['cost of one person'].min()\n",
    "expensive_per_cuisine = df.groupby('cuisines')['cost of one person'].max()\n"
   ]
  },
  {
   "cell_type": "code",
   "execution_count": 31,
   "id": "c937641f-6cd8-4ef7-8e84-ef9c1d6d5eb2",
   "metadata": {},
   "outputs": [
    {
     "data": {
      "text/plain": [
       "cuisines\n",
       "African, Burger                                                      500.0\n",
       "African, Burger, Desserts, Beverages, Fast Food                      500.0\n",
       "American                                                             125.0\n",
       "American, Asian, Continental, North Indian, South Indian, Chinese    600.0\n",
       "American, Asian, European, North Indian                              700.0\n",
       "                                                                     ...  \n",
       "Turkish, Desserts                                                    125.0\n",
       "Turkish, Fast Food                                                   175.0\n",
       "Turkish, Rolls                                                       150.0\n",
       "Vietnamese                                                           350.0\n",
       "Vietnamese, Thai, Burmese, Japanese                                  500.0\n",
       "Name: cost of one person, Length: 1704, dtype: float64"
      ]
     },
     "execution_count": 31,
     "metadata": {},
     "output_type": "execute_result"
    }
   ],
   "source": [
    "cheapest_per_cuisine"
   ]
  },
  {
   "cell_type": "code",
   "execution_count": 32,
   "id": "b5f38eaf-f787-4084-9285-1c8f73cfb799",
   "metadata": {},
   "outputs": [],
   "source": [
    "max_delivery_reviews_location = df[df['votes'] > 1000]['location'].value_counts().idxmax()\n",
    "interesting_insight = df[['rate', 'votes']].corr().loc['rate', 'votes']\n",
    "max_less_rated_location = df[df['rate'] < 3.0]['location'].value_counts().idxmax()\n"
   ]
  },
  {
   "cell_type": "code",
   "execution_count": 33,
   "id": "353974ae-5dc1-4e2e-8d31-bad716108963",
   "metadata": {},
   "outputs": [],
   "source": [
    "cheap_expensive_avg_price = df.groupby('location')['cost of one person'].agg(['min', 'max', 'mean'])\n",
    "num_restaurants_per_cuisine = df['cuisines'].value_counts()\n"
   ]
  },
  {
   "cell_type": "markdown",
   "id": "720a2eb4-eb58-42ca-b418-70ba615318aa",
   "metadata": {},
   "source": [
    "#  number of delivery per location "
   ]
  },
  {
   "cell_type": "code",
   "execution_count": 35,
   "id": "27e8fe67-dd6c-4b23-a287-ebcf5ce59f61",
   "metadata": {},
   "outputs": [],
   "source": [
    "area_wise_delivery=df.groupby('location').size()"
   ]
  },
  {
   "cell_type": "code",
   "execution_count": 36,
   "id": "d547518f-10ca-4da5-9765-bfa5f92b8072",
   "metadata": {},
   "outputs": [
    {
     "data": {
      "text/plain": [
       "location\n",
       "BTM                  2888\n",
       "Banashankari          471\n",
       "Banaswadi             297\n",
       "Bannerghatta Road     828\n",
       "Basavanagudi          412\n",
       "                     ... \n",
       "West Bangalore          2\n",
       "Whitefield            961\n",
       "Wilson Garden         123\n",
       "Yelahanka               4\n",
       "Yeshwantpur            91\n",
       "Length: 90, dtype: int64"
      ]
     },
     "execution_count": 36,
     "metadata": {},
     "output_type": "execute_result"
    }
   ],
   "source": [
    "area_wise_delivery"
   ]
  },
  {
   "cell_type": "code",
   "execution_count": 37,
   "id": "b501dc50-321d-43ff-a432-422fd88eb71b",
   "metadata": {},
   "outputs": [
    {
     "data": {
      "text/plain": [
       "'BTM'"
      ]
     },
     "execution_count": 37,
     "metadata": {},
     "output_type": "execute_result"
    }
   ],
   "source": [
    "area_wise_delivery.idxmax()"
   ]
  },
  {
   "cell_type": "code",
   "execution_count": 38,
   "id": "99ea4ceb-63de-4cdc-805c-f9e7988615de",
   "metadata": {},
   "outputs": [
    {
     "data": {
      "text/html": [
       "<div>\n",
       "<style scoped>\n",
       "    .dataframe tbody tr th:only-of-type {\n",
       "        vertical-align: middle;\n",
       "    }\n",
       "\n",
       "    .dataframe tbody tr th {\n",
       "        vertical-align: top;\n",
       "    }\n",
       "\n",
       "    .dataframe thead th {\n",
       "        text-align: right;\n",
       "    }\n",
       "</style>\n",
       "<table border=\"1\" class=\"dataframe\">\n",
       "  <thead>\n",
       "    <tr style=\"text-align: right;\">\n",
       "      <th></th>\n",
       "      <th>url</th>\n",
       "      <th>name</th>\n",
       "      <th>delivery</th>\n",
       "      <th>rate</th>\n",
       "      <th>votes</th>\n",
       "      <th>location</th>\n",
       "      <th>cuisines</th>\n",
       "      <th>cost of one person</th>\n",
       "    </tr>\n",
       "  </thead>\n",
       "  <tbody>\n",
       "    <tr>\n",
       "      <th>879</th>\n",
       "      <td>https://www.zomato.com/bangalore/sankranthi-ve...</td>\n",
       "      <td>Sankranthi Veg Restaurant</td>\n",
       "      <td>1</td>\n",
       "      <td>3.0</td>\n",
       "      <td>102</td>\n",
       "      <td>BTM</td>\n",
       "      <td>South Indian, North Indian, Chinese</td>\n",
       "      <td>300.0</td>\n",
       "    </tr>\n",
       "    <tr>\n",
       "      <th>922</th>\n",
       "      <td>https://www.zomato.com/bangalore/eat-fit-btm-b...</td>\n",
       "      <td>eat.fit</td>\n",
       "      <td>1</td>\n",
       "      <td>4.5</td>\n",
       "      <td>1178</td>\n",
       "      <td>BTM</td>\n",
       "      <td>Healthy Food, North Indian, Biryani, Continent...</td>\n",
       "      <td>250.0</td>\n",
       "    </tr>\n",
       "    <tr>\n",
       "      <th>923</th>\n",
       "      <td>https://www.zomato.com/bangalore/sai-abhiruchi...</td>\n",
       "      <td>Sai Abhiruchi</td>\n",
       "      <td>1</td>\n",
       "      <td>3.7</td>\n",
       "      <td>335</td>\n",
       "      <td>BTM</td>\n",
       "      <td>Andhra, North Indian, Biryani</td>\n",
       "      <td>400.0</td>\n",
       "    </tr>\n",
       "    <tr>\n",
       "      <th>924</th>\n",
       "      <td>https://www.zomato.com/bangalore/capsicum-fami...</td>\n",
       "      <td>Capsicum Family Restaurant</td>\n",
       "      <td>1</td>\n",
       "      <td>3.8</td>\n",
       "      <td>254</td>\n",
       "      <td>BTM</td>\n",
       "      <td>Biryani, North Indian</td>\n",
       "      <td>400.0</td>\n",
       "    </tr>\n",
       "    <tr>\n",
       "      <th>928</th>\n",
       "      <td>https://www.zomato.com/bangalore/hiyar-majhe-k...</td>\n",
       "      <td>Hiyar Majhe Kolkata</td>\n",
       "      <td>1</td>\n",
       "      <td>4.0</td>\n",
       "      <td>244</td>\n",
       "      <td>BTM</td>\n",
       "      <td>Bengali, North Indian</td>\n",
       "      <td>200.0</td>\n",
       "    </tr>\n",
       "  </tbody>\n",
       "</table>\n",
       "</div>"
      ],
      "text/plain": [
       "                                                   url  \\\n",
       "879  https://www.zomato.com/bangalore/sankranthi-ve...   \n",
       "922  https://www.zomato.com/bangalore/eat-fit-btm-b...   \n",
       "923  https://www.zomato.com/bangalore/sai-abhiruchi...   \n",
       "924  https://www.zomato.com/bangalore/capsicum-fami...   \n",
       "928  https://www.zomato.com/bangalore/hiyar-majhe-k...   \n",
       "\n",
       "                           name  delivery  rate  votes location  \\\n",
       "879   Sankranthi Veg Restaurant         1   3.0    102      BTM   \n",
       "922                     eat.fit         1   4.5   1178      BTM   \n",
       "923               Sai Abhiruchi         1   3.7    335      BTM   \n",
       "924  Capsicum Family Restaurant         1   3.8    254      BTM   \n",
       "928         Hiyar Majhe Kolkata         1   4.0    244      BTM   \n",
       "\n",
       "                                              cuisines  cost of one person  \n",
       "879                South Indian, North Indian, Chinese               300.0  \n",
       "922  Healthy Food, North Indian, Biryani, Continent...               250.0  \n",
       "923                      Andhra, North Indian, Biryani               400.0  \n",
       "924                              Biryani, North Indian               400.0  \n",
       "928                              Bengali, North Indian               200.0  "
      ]
     },
     "execution_count": 38,
     "metadata": {},
     "output_type": "execute_result"
    }
   ],
   "source": [
    "btm_deliveries = df[df['location'] == 'BTM']\n",
    "btm_deliveries.head()"
   ]
  },
  {
   "cell_type": "code",
   "execution_count": 39,
   "id": "8b8dca0e-5eee-46cb-ad6e-e44ff848f132",
   "metadata": {},
   "outputs": [],
   "source": [
    "btm_cuisine_counts = btm_deliveries.groupby('cuisines').size()"
   ]
  },
  {
   "cell_type": "code",
   "execution_count": 40,
   "id": "4761c5ec-1976-4dd4-a972-f8009a8bc603",
   "metadata": {},
   "outputs": [
    {
     "name": "stdout",
     "output_type": "stream",
     "text": [
      "North Indian, Chinese 249\n"
     ]
    }
   ],
   "source": [
    "print(btm_cuisine_counts.idxmax(),btm_cuisine_counts.max())"
   ]
  },
  {
   "cell_type": "markdown",
   "id": "824e2fb8-8d4a-4e2a-b60d-237c839cc01f",
   "metadata": {},
   "source": [
    "# cheapest and expensive price for each types of cuisine. "
   ]
  },
  {
   "cell_type": "code",
   "execution_count": 41,
   "id": "78b0d1c7-248d-4277-b377-e80e414b8cd4",
   "metadata": {},
   "outputs": [],
   "source": [
    "cheapest_cuisine =df.groupby(\"cuisines\").min(\"price of one person\")"
   ]
  },
  {
   "cell_type": "code",
   "execution_count": 42,
   "id": "b279818f-bd33-4463-991d-1695507cb19a",
   "metadata": {},
   "outputs": [
    {
     "data": {
      "text/html": [
       "<div>\n",
       "<style scoped>\n",
       "    .dataframe tbody tr th:only-of-type {\n",
       "        vertical-align: middle;\n",
       "    }\n",
       "\n",
       "    .dataframe tbody tr th {\n",
       "        vertical-align: top;\n",
       "    }\n",
       "\n",
       "    .dataframe thead th {\n",
       "        text-align: right;\n",
       "    }\n",
       "</style>\n",
       "<table border=\"1\" class=\"dataframe\">\n",
       "  <thead>\n",
       "    <tr style=\"text-align: right;\">\n",
       "      <th></th>\n",
       "      <th>delivery</th>\n",
       "      <th>rate</th>\n",
       "      <th>votes</th>\n",
       "      <th>cost of one person</th>\n",
       "    </tr>\n",
       "    <tr>\n",
       "      <th>cuisines</th>\n",
       "      <th></th>\n",
       "      <th></th>\n",
       "      <th></th>\n",
       "      <th></th>\n",
       "    </tr>\n",
       "  </thead>\n",
       "  <tbody>\n",
       "    <tr>\n",
       "      <th>African, Burger</th>\n",
       "      <td>1</td>\n",
       "      <td>4.5</td>\n",
       "      <td>404</td>\n",
       "      <td>500.0</td>\n",
       "    </tr>\n",
       "    <tr>\n",
       "      <th>African, Burger, Desserts, Beverages, Fast Food</th>\n",
       "      <td>1</td>\n",
       "      <td>4.6</td>\n",
       "      <td>595</td>\n",
       "      <td>500.0</td>\n",
       "    </tr>\n",
       "    <tr>\n",
       "      <th>American</th>\n",
       "      <td>1</td>\n",
       "      <td>2.7</td>\n",
       "      <td>4</td>\n",
       "      <td>125.0</td>\n",
       "    </tr>\n",
       "    <tr>\n",
       "      <th>American, Asian, Continental, North Indian, South Indian, Chinese</th>\n",
       "      <td>1</td>\n",
       "      <td>4.1</td>\n",
       "      <td>322</td>\n",
       "      <td>600.0</td>\n",
       "    </tr>\n",
       "    <tr>\n",
       "      <th>American, Asian, European, North Indian</th>\n",
       "      <td>1</td>\n",
       "      <td>4.3</td>\n",
       "      <td>3848</td>\n",
       "      <td>700.0</td>\n",
       "    </tr>\n",
       "    <tr>\n",
       "      <th>...</th>\n",
       "      <td>...</td>\n",
       "      <td>...</td>\n",
       "      <td>...</td>\n",
       "      <td>...</td>\n",
       "    </tr>\n",
       "    <tr>\n",
       "      <th>Turkish, Desserts</th>\n",
       "      <td>1</td>\n",
       "      <td>4.3</td>\n",
       "      <td>62</td>\n",
       "      <td>125.0</td>\n",
       "    </tr>\n",
       "    <tr>\n",
       "      <th>Turkish, Fast Food</th>\n",
       "      <td>1</td>\n",
       "      <td>3.6</td>\n",
       "      <td>22</td>\n",
       "      <td>175.0</td>\n",
       "    </tr>\n",
       "    <tr>\n",
       "      <th>Turkish, Rolls</th>\n",
       "      <td>1</td>\n",
       "      <td>3.7</td>\n",
       "      <td>12</td>\n",
       "      <td>150.0</td>\n",
       "    </tr>\n",
       "    <tr>\n",
       "      <th>Vietnamese</th>\n",
       "      <td>1</td>\n",
       "      <td>3.6</td>\n",
       "      <td>104</td>\n",
       "      <td>350.0</td>\n",
       "    </tr>\n",
       "    <tr>\n",
       "      <th>Vietnamese, Thai, Burmese, Japanese</th>\n",
       "      <td>1</td>\n",
       "      <td>4.5</td>\n",
       "      <td>785</td>\n",
       "      <td>500.0</td>\n",
       "    </tr>\n",
       "  </tbody>\n",
       "</table>\n",
       "<p>1704 rows × 4 columns</p>\n",
       "</div>"
      ],
      "text/plain": [
       "                                                    delivery  rate  votes  \\\n",
       "cuisines                                                                    \n",
       "African, Burger                                            1   4.5    404   \n",
       "African, Burger, Desserts, Beverages, Fast Food            1   4.6    595   \n",
       "American                                                   1   2.7      4   \n",
       "American, Asian, Continental, North Indian, Sou...         1   4.1    322   \n",
       "American, Asian, European, North Indian                    1   4.3   3848   \n",
       "...                                                      ...   ...    ...   \n",
       "Turkish, Desserts                                          1   4.3     62   \n",
       "Turkish, Fast Food                                         1   3.6     22   \n",
       "Turkish, Rolls                                             1   3.7     12   \n",
       "Vietnamese                                                 1   3.6    104   \n",
       "Vietnamese, Thai, Burmese, Japanese                        1   4.5    785   \n",
       "\n",
       "                                                    cost of one person  \n",
       "cuisines                                                                \n",
       "African, Burger                                                  500.0  \n",
       "African, Burger, Desserts, Beverages, Fast Food                  500.0  \n",
       "American                                                         125.0  \n",
       "American, Asian, Continental, North Indian, Sou...               600.0  \n",
       "American, Asian, European, North Indian                          700.0  \n",
       "...                                                                ...  \n",
       "Turkish, Desserts                                                125.0  \n",
       "Turkish, Fast Food                                               175.0  \n",
       "Turkish, Rolls                                                   150.0  \n",
       "Vietnamese                                                       350.0  \n",
       "Vietnamese, Thai, Burmese, Japanese                              500.0  \n",
       "\n",
       "[1704 rows x 4 columns]"
      ]
     },
     "execution_count": 42,
     "metadata": {},
     "output_type": "execute_result"
    }
   ],
   "source": [
    "cheapest_cuisine"
   ]
  },
  {
   "cell_type": "code",
   "execution_count": 43,
   "id": "71ccf164-1398-4cbf-b229-fed0a7844adc",
   "metadata": {},
   "outputs": [],
   "source": [
    "expensive_cuisine=df.groupby('cuisines').max('price of one person')"
   ]
  },
  {
   "cell_type": "code",
   "execution_count": 44,
   "id": "4c446666-7e47-4c3f-ae96-dc22921f78bb",
   "metadata": {},
   "outputs": [
    {
     "data": {
      "text/html": [
       "<div>\n",
       "<style scoped>\n",
       "    .dataframe tbody tr th:only-of-type {\n",
       "        vertical-align: middle;\n",
       "    }\n",
       "\n",
       "    .dataframe tbody tr th {\n",
       "        vertical-align: top;\n",
       "    }\n",
       "\n",
       "    .dataframe thead th {\n",
       "        text-align: right;\n",
       "    }\n",
       "</style>\n",
       "<table border=\"1\" class=\"dataframe\">\n",
       "  <thead>\n",
       "    <tr style=\"text-align: right;\">\n",
       "      <th></th>\n",
       "      <th>delivery</th>\n",
       "      <th>rate</th>\n",
       "      <th>votes</th>\n",
       "      <th>cost of one person</th>\n",
       "    </tr>\n",
       "    <tr>\n",
       "      <th>cuisines</th>\n",
       "      <th></th>\n",
       "      <th></th>\n",
       "      <th></th>\n",
       "      <th></th>\n",
       "    </tr>\n",
       "  </thead>\n",
       "  <tbody>\n",
       "    <tr>\n",
       "      <th>African, Burger</th>\n",
       "      <td>1</td>\n",
       "      <td>4.6</td>\n",
       "      <td>592</td>\n",
       "      <td>500.0</td>\n",
       "    </tr>\n",
       "    <tr>\n",
       "      <th>African, Burger, Desserts, Beverages, Fast Food</th>\n",
       "      <td>1</td>\n",
       "      <td>4.6</td>\n",
       "      <td>595</td>\n",
       "      <td>500.0</td>\n",
       "    </tr>\n",
       "    <tr>\n",
       "      <th>American</th>\n",
       "      <td>1</td>\n",
       "      <td>3.2</td>\n",
       "      <td>30</td>\n",
       "      <td>250.0</td>\n",
       "    </tr>\n",
       "    <tr>\n",
       "      <th>American, Asian, Continental, North Indian, South Indian, Chinese</th>\n",
       "      <td>1</td>\n",
       "      <td>4.1</td>\n",
       "      <td>332</td>\n",
       "      <td>600.0</td>\n",
       "    </tr>\n",
       "    <tr>\n",
       "      <th>American, Asian, European, North Indian</th>\n",
       "      <td>1</td>\n",
       "      <td>4.3</td>\n",
       "      <td>3890</td>\n",
       "      <td>700.0</td>\n",
       "    </tr>\n",
       "    <tr>\n",
       "      <th>...</th>\n",
       "      <td>...</td>\n",
       "      <td>...</td>\n",
       "      <td>...</td>\n",
       "      <td>...</td>\n",
       "    </tr>\n",
       "    <tr>\n",
       "      <th>Turkish, Desserts</th>\n",
       "      <td>1</td>\n",
       "      <td>4.3</td>\n",
       "      <td>70</td>\n",
       "      <td>125.0</td>\n",
       "    </tr>\n",
       "    <tr>\n",
       "      <th>Turkish, Fast Food</th>\n",
       "      <td>1</td>\n",
       "      <td>3.6</td>\n",
       "      <td>22</td>\n",
       "      <td>175.0</td>\n",
       "    </tr>\n",
       "    <tr>\n",
       "      <th>Turkish, Rolls</th>\n",
       "      <td>1</td>\n",
       "      <td>4.1</td>\n",
       "      <td>269</td>\n",
       "      <td>150.0</td>\n",
       "    </tr>\n",
       "    <tr>\n",
       "      <th>Vietnamese</th>\n",
       "      <td>1</td>\n",
       "      <td>4.4</td>\n",
       "      <td>1811</td>\n",
       "      <td>500.0</td>\n",
       "    </tr>\n",
       "    <tr>\n",
       "      <th>Vietnamese, Thai, Burmese, Japanese</th>\n",
       "      <td>1</td>\n",
       "      <td>4.5</td>\n",
       "      <td>789</td>\n",
       "      <td>500.0</td>\n",
       "    </tr>\n",
       "  </tbody>\n",
       "</table>\n",
       "<p>1704 rows × 4 columns</p>\n",
       "</div>"
      ],
      "text/plain": [
       "                                                    delivery  rate  votes  \\\n",
       "cuisines                                                                    \n",
       "African, Burger                                            1   4.6    592   \n",
       "African, Burger, Desserts, Beverages, Fast Food            1   4.6    595   \n",
       "American                                                   1   3.2     30   \n",
       "American, Asian, Continental, North Indian, Sou...         1   4.1    332   \n",
       "American, Asian, European, North Indian                    1   4.3   3890   \n",
       "...                                                      ...   ...    ...   \n",
       "Turkish, Desserts                                          1   4.3     70   \n",
       "Turkish, Fast Food                                         1   3.6     22   \n",
       "Turkish, Rolls                                             1   4.1    269   \n",
       "Vietnamese                                                 1   4.4   1811   \n",
       "Vietnamese, Thai, Burmese, Japanese                        1   4.5    789   \n",
       "\n",
       "                                                    cost of one person  \n",
       "cuisines                                                                \n",
       "African, Burger                                                  500.0  \n",
       "African, Burger, Desserts, Beverages, Fast Food                  500.0  \n",
       "American                                                         250.0  \n",
       "American, Asian, Continental, North Indian, Sou...               600.0  \n",
       "American, Asian, European, North Indian                          700.0  \n",
       "...                                                                ...  \n",
       "Turkish, Desserts                                                125.0  \n",
       "Turkish, Fast Food                                               175.0  \n",
       "Turkish, Rolls                                                   150.0  \n",
       "Vietnamese                                                       500.0  \n",
       "Vietnamese, Thai, Burmese, Japanese                              500.0  \n",
       "\n",
       "[1704 rows x 4 columns]"
      ]
     },
     "execution_count": 44,
     "metadata": {},
     "output_type": "execute_result"
    }
   ],
   "source": [
    "expensive_cuisine"
   ]
  },
  {
   "cell_type": "code",
   "execution_count": null,
   "id": "6d58c394-201e-45fb-806f-15fe34974656",
   "metadata": {},
   "outputs": [],
   "source": []
  },
  {
   "cell_type": "markdown",
   "id": "ba970979-8d01-40cd-b957-b22f06654736",
   "metadata": {},
   "source": [
    "# maximum number of restaurant where the delivery_review_number is greater than 1000. "
   ]
  },
  {
   "cell_type": "code",
   "execution_count": 45,
   "id": "e3aeebe6-71cf-4777-ae82-6d41856f0252",
   "metadata": {},
   "outputs": [],
   "source": [
    "filtered_restaurants = df[df['votes'] > 1000]\n"
   ]
  },
  {
   "cell_type": "markdown",
   "id": "2bd458f4-da13-40a9-88ed-b1d911ed1dae",
   "metadata": {},
   "source": [
    "# Max and min price of each resturant"
   ]
  },
  {
   "cell_type": "code",
   "execution_count": 46,
   "id": "89bbaa02-d2d2-4320-b375-0ed61530dc02",
   "metadata": {},
   "outputs": [],
   "source": [
    "\n",
    "min_price=df.groupby('name').min('cost of one person')\n",
    "max_price=df.groupby('name').max('cost of one person')"
   ]
  },
  {
   "cell_type": "code",
   "execution_count": 47,
   "id": "569dcb74-4acc-48c7-b38d-08cff2b1dd2a",
   "metadata": {},
   "outputs": [],
   "source": [
    "location_counts = filtered_restaurants.groupby('location').size()\n",
    "max_location = location_counts.idxmax()"
   ]
  },
  {
   "cell_type": "code",
   "execution_count": 48,
   "id": "d1f3eca7-a465-4b85-ba7e-47b9864d3cec",
   "metadata": {},
   "outputs": [
    {
     "data": {
      "text/html": [
       "<div>\n",
       "<style scoped>\n",
       "    .dataframe tbody tr th:only-of-type {\n",
       "        vertical-align: middle;\n",
       "    }\n",
       "\n",
       "    .dataframe tbody tr th {\n",
       "        vertical-align: top;\n",
       "    }\n",
       "\n",
       "    .dataframe thead th {\n",
       "        text-align: right;\n",
       "    }\n",
       "</style>\n",
       "<table border=\"1\" class=\"dataframe\">\n",
       "  <thead>\n",
       "    <tr style=\"text-align: right;\">\n",
       "      <th></th>\n",
       "      <th>delivery</th>\n",
       "      <th>rate</th>\n",
       "      <th>votes</th>\n",
       "      <th>cost of one person</th>\n",
       "    </tr>\n",
       "    <tr>\n",
       "      <th>name</th>\n",
       "      <th></th>\n",
       "      <th></th>\n",
       "      <th></th>\n",
       "      <th></th>\n",
       "    </tr>\n",
       "  </thead>\n",
       "  <tbody>\n",
       "    <tr>\n",
       "      <th>#L-81 Cafe</th>\n",
       "      <td>1</td>\n",
       "      <td>3.9</td>\n",
       "      <td>48</td>\n",
       "      <td>200.0</td>\n",
       "    </tr>\n",
       "    <tr>\n",
       "      <th>#refuel</th>\n",
       "      <td>1</td>\n",
       "      <td>3.7</td>\n",
       "      <td>37</td>\n",
       "      <td>200.0</td>\n",
       "    </tr>\n",
       "    <tr>\n",
       "      <th>1000 B.C</th>\n",
       "      <td>1</td>\n",
       "      <td>3.2</td>\n",
       "      <td>49</td>\n",
       "      <td>150.0</td>\n",
       "    </tr>\n",
       "    <tr>\n",
       "      <th>11 to 11 Express Biriyanis</th>\n",
       "      <td>1</td>\n",
       "      <td>3.5</td>\n",
       "      <td>22</td>\n",
       "      <td>150.0</td>\n",
       "    </tr>\n",
       "    <tr>\n",
       "      <th>1441 Pizzeria</th>\n",
       "      <td>1</td>\n",
       "      <td>4.1</td>\n",
       "      <td>119</td>\n",
       "      <td>400.0</td>\n",
       "    </tr>\n",
       "    <tr>\n",
       "      <th>...</th>\n",
       "      <td>...</td>\n",
       "      <td>...</td>\n",
       "      <td>...</td>\n",
       "      <td>...</td>\n",
       "    </tr>\n",
       "    <tr>\n",
       "      <th>Zu's Doner Kebaps</th>\n",
       "      <td>1</td>\n",
       "      <td>3.6</td>\n",
       "      <td>22</td>\n",
       "      <td>175.0</td>\n",
       "    </tr>\n",
       "    <tr>\n",
       "      <th>Zyara</th>\n",
       "      <td>1</td>\n",
       "      <td>3.8</td>\n",
       "      <td>191</td>\n",
       "      <td>325.0</td>\n",
       "    </tr>\n",
       "    <tr>\n",
       "      <th>eat.fit</th>\n",
       "      <td>1</td>\n",
       "      <td>3.9</td>\n",
       "      <td>42</td>\n",
       "      <td>150.0</td>\n",
       "    </tr>\n",
       "    <tr>\n",
       "      <th>iSpice Resto Cafe</th>\n",
       "      <td>1</td>\n",
       "      <td>3.7</td>\n",
       "      <td>28</td>\n",
       "      <td>250.0</td>\n",
       "    </tr>\n",
       "    <tr>\n",
       "      <th>nu.tree</th>\n",
       "      <td>1</td>\n",
       "      <td>4.2</td>\n",
       "      <td>52</td>\n",
       "      <td>200.0</td>\n",
       "    </tr>\n",
       "  </tbody>\n",
       "</table>\n",
       "<p>3956 rows × 4 columns</p>\n",
       "</div>"
      ],
      "text/plain": [
       "                            delivery  rate  votes  cost of one person\n",
       "name                                                                 \n",
       "#L-81 Cafe                         1   3.9     48               200.0\n",
       "#refuel                            1   3.7     37               200.0\n",
       "1000 B.C                           1   3.2     49               150.0\n",
       "11 to 11 Express Biriyanis         1   3.5     22               150.0\n",
       "1441 Pizzeria                      1   4.1    119               400.0\n",
       "...                              ...   ...    ...                 ...\n",
       "Zu's Doner Kebaps                  1   3.6     22               175.0\n",
       "Zyara                              1   3.8    191               325.0\n",
       "eat.fit                            1   3.9     42               150.0\n",
       "iSpice Resto Cafe                  1   3.7     28               250.0\n",
       "nu.tree                            1   4.2     52               200.0\n",
       "\n",
       "[3956 rows x 4 columns]"
      ]
     },
     "execution_count": 48,
     "metadata": {},
     "output_type": "execute_result"
    }
   ],
   "source": [
    "min_price"
   ]
  },
  {
   "cell_type": "markdown",
   "id": "8ca756de-145a-4c02-aa84-b899f1cf8da9",
   "metadata": {},
   "source": [
    "# Interesting insight"
   ]
  },
  {
   "cell_type": "code",
   "execution_count": 49,
   "id": "34a3b9c6-f7d9-4d98-b85c-3474b1cca209",
   "metadata": {},
   "outputs": [
    {
     "data": {
      "text/plain": [
       "'BTM'"
      ]
     },
     "execution_count": 49,
     "metadata": {},
     "output_type": "execute_result"
    }
   ],
   "source": [
    "area_wise_delivery.idxmax()"
   ]
  },
  {
   "cell_type": "raw",
   "id": "54b1b2cb-9398-43be-87c8-32fbaa55fdaf",
   "metadata": {},
   "source": []
  },
  {
   "cell_type": "code",
   "execution_count": 50,
   "id": "527a5e4e-f31d-40b7-ad75-53c317f05636",
   "metadata": {},
   "outputs": [
    {
     "name": "stdout",
     "output_type": "stream",
     "text": [
      "North Indian, Chinese 249\n"
     ]
    }
   ],
   "source": [
    "print(btm_cuisine_counts.idxmax(),btm_cuisine_counts.max())"
   ]
  },
  {
   "cell_type": "markdown",
   "id": "fcd31d23-cc86-4963-9d19-1d4d38514db1",
   "metadata": {},
   "source": [
    "# Area wise distribution "
   ]
  },
  {
   "cell_type": "code",
   "execution_count": 56,
   "id": "15870ca0-a737-49fd-919c-963a13d3d3c6",
   "metadata": {},
   "outputs": [
    {
     "data": {
      "image/png": "[encoded data removed]",
      "text/plain": [
       "<Figure size 1500x600 with 1 Axes>"
      ]
     },
     "metadata": {},
     "output_type": "display_data"
    }
   ],
   "source": [
    "location_counts = df['location'].value_counts()\n",
    "sorted_locations = location_counts.index.tolist()\n",
    "\n",
    "# Plotting the count plot\n",
    "plt.figure(figsize=(15, 6))\n",
    "sns.countplot(x='location', data=df, order=sorted_locations)\n",
    "plt.xticks(rotation=90)\n",
    "plt.title('Area-wise Distribution of Restaurants ')\n",
    "plt.show()"
   ]
  },
  {
   "cell_type": "markdown",
   "id": "d3e86c8b-322e-492d-9559-bfa17fdcc258",
   "metadata": {},
   "source": [
    "# BTM top 20 dishes"
   ]
  },
  {
   "cell_type": "code",
   "execution_count": 63,
   "id": "df3ff4a7-2ac9-45d6-807a-e08bf3263605",
   "metadata": {},
   "outputs": [],
   "source": [
    "btm_dishes=df['cuisines'].value_counts()\n",
    "sorted_btm_cusines =btm_dishes.index.tolist()[:20]\n"
   ]
  },
  {
   "cell_type": "code",
   "execution_count": 68,
   "id": "0b29c265-5e08-4b43-9a67-54135b4d2cb2",
   "metadata": {},
   "outputs": [
    {
     "data": {
      "image/png": "[encoded data removed]",
      "text/plain": [
       "<Figure size 1500x600 with 1 Axes>"
      ]
     },
     "metadata": {},
     "output_type": "display_data"
    }
   ],
   "source": [
    "plt.figure(figsize=(15, 6))\n",
    "sns.countplot(x='cuisines', data=df, order=sorted_btm_cusines)\n",
    "plt.xticks(rotation=90)\n",
    "plt.title('Count number of order per dishes  ')\n",
    "plt.show()"
   ]
  },
  {
   "cell_type": "code",
   "execution_count": null,
   "id": "9243287f-458d-4e73-a74e-7f3d0a2b2dcf",
   "metadata": {},
   "outputs": [],
   "source": []
  }
 ],
 "metadata": {
  "kernelspec": {
   "display_name": "Python 3 (ipykernel)",
   "language": "python",
   "name": "python3"
  },
  "language_info": {
   "codemirror_mode": {
    "name": "ipython",
    "version": 3
   },
   "file_extension": ".py",
   "mimetype": "text/x-python",
   "name": "python",
   "nbconvert_exporter": "python",
   "pygments_lexer": "ipython3",
   "version": "3.11.8"
  },
  "widgets": {
   "application/vnd.jupyter.widget-state+json": {
    "state": {},
    "version_major": 2,
    "version_minor": 0
   }
  }
 },
 "nbformat": 4,
 "nbformat_minor": 5
}
